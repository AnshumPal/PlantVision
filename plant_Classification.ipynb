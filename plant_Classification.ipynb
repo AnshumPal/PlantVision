{
 "cells": [
  {
   "cell_type": "markdown",
   "id": "0c1d1bd9",
   "metadata": {},
   "source": [
    "1. Preprocessing & Data Augmentation\n"
   ]
  },
  {
   "cell_type": "code",
   "execution_count": null,
   "id": "2ee1abf2",
   "metadata": {
    "vscode": {
     "languageId": "plaintext"
    }
   },
   "outputs": [],
   "source": [
    "# 1. Preprocessing & Data Augmentation\n",
    "import tensorflow as tf\n",
    "from tensorflow.keras.preprocessing.image import ImageDataGenerator\n",
    "import os\n",
    "from tensorflow.keras.applications.mobilenet_v2 import preprocess_input\n",
    "\n",
    "# Define image dimensions (MobileNet standard)\n",
    "IMG_SIZE = 224\n",
    "\n",
    "# Path to your extracted dataset directory\n",
    "dataset_path = \"plant_data\"  # Adjust based on your extraction path\n",
    "\n",
    "# Verify dataset structure\n",
    "print(\"Dataset folders:\", os.listdir(dataset_path))\n",
    "\n",
    "# Create a training data generator with MobileNetV2 preprocessing\n",
    "train_datagen = ImageDataGenerator(\n",
    "    preprocessing_function=preprocess_input,  # Optimized for MobileNet\n",
    "    rotation_range=20,\n",
    "    width_shift_range=0.2,\n",
    "    height_shift_range=0.2,\n",
    "    shear_range=0.2,\n",
    "    zoom_range=0.2,\n",
    "    horizontal_flip=True,\n",
    "    fill_mode='nearest',\n",
    "    validation_split=0.2  # Reserve 20% of data for validation\n",
    ")\n",
    "\n",
    "# Generator for training data (80% of the dataset)\n",
    "train_generator = train_datagen.flow_from_directory(\n",
    "    dataset_path,\n",
    "    target_size=(IMG_SIZE, IMG_SIZE),\n",
    "    batch_size=16,  # Reduced batch size for smoother training\n",
    "    class_mode=\"categorical\",\n",
    "    subset=\"training\",\n",
    "    shuffle=True  # Enable random ordering of images\n",
    ")\n",
    "\n",
    "# Create a validation data generator\n",
    "val_datagen = ImageDataGenerator(\n",
    "    preprocessing_function=preprocess_input,  # Same preprocessing for consistency\n",
    "    validation_split=0.2\n",
    ")\n",
    "\n",
    "# Generator for validation data (20% of the dataset)\n",
    "val_generator = val_datagen.flow_from_directory(\n",
    "    dataset_path,\n",
    "    target_size=(IMG_SIZE, IMG_SIZE),\n",
    "    batch_size=16,  # Keeping batch size consistent\n",
    "    class_mode=\"categorical\",\n",
    "    subset=\"validation\"\n",
    ")\n",
    "\n",
    "# Print discovered class names and number of categories\n",
    "print(\"Class Indices:\", train_generator.class_indices)\n",
    "print(\"Total classes:\", len(train_generator.class_indices))\n",
    "\n"
   ]
  },
  {
   "cell_type": "markdown",
   "id": "2467423a",
   "metadata": {},
   "source": [
    "2. Building a MobileNet-based Model\n"
   ]
  },
  {
   "cell_type": "code",
   "execution_count": null,
   "id": "8ceffea2",
   "metadata": {
    "vscode": {
     "languageId": "plaintext"
    }
   },
   "outputs": [],
   "source": [
    "import tensorflow as tf\n",
    "from tensorflow.keras import layers, models\n",
    "\n",
    "# Number of classes from dataset\n",
    "num_classes = len(train_generator.class_indices)\n",
    "\n",
    "# Load MobileNetV2 with ImageNet weights\n",
    "base_model = tf.keras.applications.MobileNetV2(\n",
    "    input_shape=(IMG_SIZE, IMG_SIZE, 3),\n",
    "    include_top=False,  # Removing classification layers\n",
    "    weights='imagenet'\n",
    ")\n",
    "\n",
    "# Freeze all layers initially\n",
    "base_model.trainable = False\n",
    "\n",
    "# Build the model architecture\n",
    "inputs = tf.keras.Input(shape=(IMG_SIZE, IMG_SIZE, 3))\n",
    "x = base_model(inputs, training=False)\n",
    "x = layers.GlobalAveragePooling2D()(x)\n",
    "x = layers.BatchNormalization()(x)  # Normalization for stable training\n",
    "x = layers.Dense(128, activation='relu')(x)\n",
    "x = layers.Dropout(0.3)(x)  # Dropout reduces overfitting\n",
    "outputs = layers.Dense(num_classes, activation='softmax')(x)\n",
    "\n",
    "model = tf.keras.Model(inputs, outputs)\n",
    "\n",
    "# Use learning rate scheduling\n",
    "initial_lr = 0.001\n",
    "lr_schedule = tf.keras.optimizers.schedules.ExponentialDecay(\n",
    "    initial_lr, decay_steps=10000, decay_rate=0.9\n",
    ")\n",
    "\n",
    "model.compile(optimizer=tf.keras.optimizers.Adam(learning_rate=lr_schedule),\n",
    "              loss='categorical_crossentropy',\n",
    "              metrics=['accuracy'])\n",
    "\n",
    "model.summary()\n"
   ]
  },
  {
   "cell_type": "markdown",
   "id": "d54ac226",
   "metadata": {},
   "source": [
    "3. Training Your Model"
   ]
  },
  {
   "cell_type": "code",
   "execution_count": null,
   "id": "fa47c3d4",
   "metadata": {
    "vscode": {
     "languageId": "plaintext"
    }
   },
   "outputs": [],
   "source": [
    "from tensorflow.keras.callbacks import EarlyStopping\n",
    "\n",
    "# Set early stopping to prevent unnecessary training if validation loss stops improving\n",
    "early_stop = EarlyStopping(monitor=\"val_loss\", patience=3, restore_best_weights=True)\n",
    "\n",
    "# Train the model using the generators\n",
    "history = model.fit(\n",
    "    train_generator,\n",
    "    validation_data=val_generator,\n",
    "    epochs=10,  # Increase epochs for deeper learning\n",
    "    callbacks=[early_stop],  # Enable early stopping\n",
    "    verbose=1  # Show training progress\n",
    ")\n",
    "\n"
   ]
  },
  {
   "cell_type": "markdown",
   "id": "3377c46e",
   "metadata": {},
   "source": [
    "4.Plot Accuracy & Loss Properly"
   ]
  },
  {
   "cell_type": "code",
   "execution_count": null,
   "id": "5c6a2e67",
   "metadata": {
    "vscode": {
     "languageId": "plaintext"
    }
   },
   "outputs": [],
   "source": [
    "import matplotlib.pyplot as plt\n",
    "\n",
    "# Plot training & validation accuracy\n",
    "plt.figure(figsize=(10, 5))\n",
    "plt.plot(history.history['accuracy'], label='Train Accuracy', marker='o')\n",
    "plt.plot(history.history['val_accuracy'], label='Validation Accuracy', marker='o')\n",
    "plt.legend()\n",
    "plt.title(\"Model Accuracy\")\n",
    "plt.xlabel(\"Epochs\")\n",
    "plt.ylabel(\"Accuracy\")\n",
    "plt.grid(True)\n",
    "plt.show()\n",
    "\n",
    "# Plot training & validation loss\n",
    "plt.figure(figsize=(10, 5))\n",
    "plt.plot(history.history['loss'], label='Train Loss', marker='o')\n",
    "plt.plot(history.history['val_loss'], label='Validation Loss', marker='o')\n",
    "plt.legend()\n",
    "plt.title(\"Model Loss\")\n",
    "plt.xlabel(\"Epochs\")\n",
    "plt.ylabel(\"Loss\")\n",
    "plt.grid(True)\n",
    "plt.show()\n"
   ]
  }
 ],
 "metadata": {
  "language_info": {
   "name": "python"
  }
 },
 "nbformat": 4,
 "nbformat_minor": 5
}
